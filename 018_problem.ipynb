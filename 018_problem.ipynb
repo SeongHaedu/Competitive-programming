{
 "cells": [
  {
   "cell_type": "markdown",
   "metadata": {},
   "source": [
    "# 018\n",
    "\n",
    "\n",
    "平面 x=0 上に、高さ L の T 分で一周する観覧車があります。\n",
    "\n",
    "観覧車は円形になっており、次のように一定の速さで動きます。ただし xy 平面が水平方向、z 軸が垂直方向です。\n",
    "\n",
    "・乗ってから 0 分後には座標 (0, 0, 0) にある\n",
    "\n",
    "・乗ってから T/4 分後には座標 (0, -L/2, L/2) にある\n",
    "\n",
    "・乗ってから T/2 分後には座標 (0, 0, L) にある\n",
    "\n",
    "・乗ってから 3T/4 分後には座標 (0, L/2, L/2) にある\n",
    "\n",
    "\n",
    "観覧車の名物である「高橋直大像」は座標 (X, Y, 0) に存在します。\n",
    "\n",
    "以下の形式の質問が Q 個与えられるので、順に答えてください。\n",
    "\n",
    "・i 個目の質問では、E869120 君が観覧車に乗ってから E[i] 分後における、E869120 君から見た高橋直大像の俯角を求めよ。\n",
    "\n",
    "・ただし、俯角は 0 度から 90 度までの度数法で出力すること。絶対誤差または相対誤差が 10^{-7} 以内であれば正解となる。\n",
    "\n",
    "\n",
    "【制約】\n",
    "\n",
    "・2 ≦ T ≦ 10^9\n",
    "\n",
    "・1 ≦ L, X, Y ≦ 10^9\n",
    "\n",
    "・0 ≦ E[i] < T\n",
    "\n",
    "・1 ≦ Q ≦ 1000\n",
    "\n",
    "・入力はすべて整数\n",
    "\n",
    "\n",
    "### 入力形式\n",
    "T\n",
    "\n",
    "L X Y\n",
    "\n",
    "Q\n",
    "\n",
    "E[1]\n",
    "\n",
    "E[2]\n",
    "\n",
    " :\n",
    " \n",
    "E[T]"
   ]
  },
  {
   "cell_type": "code",
   "execution_count": null,
   "metadata": {},
   "outputs": [],
   "source": [
    "# 入力例 1\n",
    "4\n",
    "2 1 1\n",
    "4\n",
    "0\n",
    "1\n",
    "2\n",
    "3\n",
    "\n",
    "# 出力例 1\n",
    "0.0000000000\n",
    "24.0948425521\n",
    "54.7356103172\n",
    "45.0000000000"
   ]
  },
  {
   "cell_type": "code",
   "execution_count": null,
   "metadata": {},
   "outputs": [],
   "source": [
    "# 入力例 2\n",
    "5121\n",
    "312000000 4123 3314\n",
    "6\n",
    "123\n",
    "12\n",
    "445\n",
    "4114\n",
    "42\n",
    "1233\n",
    "\n",
    "\n",
    "# 出力例 2\n",
    "4.3227657759\n",
    "0.4211842348\n",
    "15.6408676940\n",
    "35.3960391625\n",
    "1.4756656379\n",
    "43.3385829770"
   ]
  },
  {
   "cell_type": "code",
   "execution_count": null,
   "metadata": {},
   "outputs": [],
   "source": []
  }
 ],
 "metadata": {
  "kernelspec": {
   "display_name": "Python 3",
   "language": "python",
   "name": "python3"
  },
  "language_info": {
   "codemirror_mode": {
    "name": "ipython",
    "version": 3
   },
   "file_extension": ".py",
   "mimetype": "text/x-python",
   "name": "python",
   "nbconvert_exporter": "python",
   "pygments_lexer": "ipython3",
   "version": "3.7.4"
  }
 },
 "nbformat": 4,
 "nbformat_minor": 4
}
