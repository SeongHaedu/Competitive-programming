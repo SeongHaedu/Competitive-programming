{
 "cells": [
  {
   "cell_type": "markdown",
   "metadata": {},
   "source": [
    "# 006\n",
    "\n",
    "\n",
    "英小文字からなる文字列 S が与えられます。\n",
    "\n",
    "S の部分文字列の中で K 文字のもののうち、辞書順で最も早いものを出力してください。\n",
    "\n",
    "ただし、部分文字列は連続しなくても良いものとします。\n",
    "\n",
    "【制約】\n",
    "\n",
    "・1 ≦ K ≦ |S| ≦ 10^5\n",
    "\n",
    "・K は整数\n",
    "\n",
    "・S は英小文字からなる\n",
    "\n",
    "※文字列 S の長さを |S| とします\n",
    "\n",
    "\n",
    "### 入力形式\n",
    "S\n",
    "K"
   ]
  },
  {
   "cell_type": "code",
   "execution_count": null,
   "metadata": {},
   "outputs": [],
   "source": [
    "# 入力例 1\n",
    "atcoder\n",
    "3\n",
    "\n",
    "# 出力例 1\n",
    "acd"
   ]
  },
  {
   "cell_type": "code",
   "execution_count": null,
   "metadata": {},
   "outputs": [],
   "source": [
    "# 入力例 2\n",
    "competitiveprogramming\n",
    "5\n",
    "\n",
    "# 出力例 2\n",
    "aming"
   ]
  },
  {
   "cell_type": "code",
   "execution_count": null,
   "metadata": {},
   "outputs": [],
   "source": [
    "# 入力例 3\n",
    "competitiveprogramming\n",
    "10\n",
    "\n",
    "# 出力例 3\n",
    "ceegamming"
   ]
  },
  {
   "cell_type": "code",
   "execution_count": null,
   "metadata": {},
   "outputs": [],
   "source": [
    "# 入力例 4\n",
    "competitiveprogramming\n",
    "22\n",
    "\n",
    "# 出力例 4\n",
    "competitiveprogramming"
   ]
  },
  {
   "cell_type": "code",
   "execution_count": null,
   "metadata": {},
   "outputs": [],
   "source": []
  }
 ],
 "metadata": {
  "kernelspec": {
   "display_name": "Python 3",
   "language": "python",
   "name": "python3"
  },
  "language_info": {
   "codemirror_mode": {
    "name": "ipython",
    "version": 3
   },
   "file_extension": ".py",
   "mimetype": "text/x-python",
   "name": "python",
   "nbconvert_exporter": "python",
   "pygments_lexer": "ipython3",
   "version": "3.7.4"
  }
 },
 "nbformat": 4,
 "nbformat_minor": 4
}
