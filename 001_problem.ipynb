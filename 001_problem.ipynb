{
 "cells": [
  {
   "cell_type": "markdown",
   "metadata": {},
   "source": [
    "# 001\n",
    "\n",
    "長さ L [cm] のようかんがあります。\n",
    "\n",
    "N 個の切れ目が付けられており、左から i 番目の切れ目は左から A[i] [cm] の位置にあります。\n",
    "\n",
    "あなたは、N 個の切れ目のうち K 個を選び、ようかんを K+1 個のピースに分割したいです。そこで、以下の値をスコアとします。\n",
    "\n",
    "・K+1 個のピースのうち、最も短いものの長さ\n",
    "\n",
    "スコアが最大になるように分割する場合に得られるスコアを求めよ。\n",
    "\n",
    "【制約】\n",
    "\n",
    "・1 ≦ K ≦ N ≦ 10^5\n",
    "\n",
    "・0 < A[1] < A[2] < ... < L ≦ 10^9\n",
    "\n",
    "・入力はすべて整数\n",
    "\n",
    "【入力形式】\n",
    "\n",
    "N L\n",
    "\n",
    "K\n",
    "\n",
    "A[1] A[2] A[3] ... A[N]\n"
   ]
  },
  {
   "cell_type": "code",
   "execution_count": 1,
   "metadata": {},
   "outputs": [
    {
     "data": {
      "text/plain": [
       "12"
      ]
     },
     "execution_count": 1,
     "metadata": {},
     "output_type": "execute_result"
    }
   ],
   "source": [
    "### 入力例 1\n",
    "N = 7 \n",
    "L = 45\n",
    "K = 2\n",
    "A = [7, 11, 16, 20, 28, 34, 38]\n",
    "\n",
    "### 出力例 1\n",
    "12"
   ]
  },
  {
   "cell_type": "code",
   "execution_count": 6,
   "metadata": {},
   "outputs": [
    {
     "data": {
      "text/plain": [
       "46"
      ]
     },
     "execution_count": 6,
     "metadata": {},
     "output_type": "execute_result"
    }
   ],
   "source": [
    "### 入力例 2\n",
    "N = 3\n",
    "L = 100\n",
    "K = 1\n",
    "A = [28, 54, 81]\n",
    "\n",
    "### 出力例 1\n",
    "46"
   ]
  },
  {
   "cell_type": "code",
   "execution_count": null,
   "metadata": {},
   "outputs": [],
   "source": [
    "### 入力例 3\n",
    "N = 3\n",
    "L = 100\n",
    "K = 2\n",
    "A = [28, 54, 81]\n",
    "\n",
    "### 出力例 1\n",
    "26"
   ]
  },
  {
   "cell_type": "code",
   "execution_count": null,
   "metadata": {},
   "outputs": [],
   "source": [
    "# 入力例 4\n",
    "N = 20\n",
    "L = 1000\n",
    "K = 4\n",
    "A = [51, 69, 102, 127, 233, 295, 350, 388, 417, 466, 469, 523, 553, 587, 720, 739, 801, 855, 926, 954]\n",
    "\n",
    "# 出力例 4\n",
    "170"
   ]
  },
  {
   "cell_type": "code",
   "execution_count": 7,
   "metadata": {},
   "outputs": [
    {
     "name": "stdout",
     "output_type": "stream",
     "text": [
      "29\n"
     ]
    }
   ],
   "source": [
    "def main(N, L, K, A):\n",
    "    target = A[K-1] + 1\n",
    "    inverse_target = L - target\n",
    "    if target <= inverse_target:\n",
    "        print(target)\n",
    "    else:\n",
    "        print(inverse_target)\n",
    "\n",
    "main(N, L, K, A)     "
   ]
  },
  {
   "cell_type": "code",
   "execution_count": null,
   "metadata": {},
   "outputs": [],
   "source": []
  }
 ],
 "metadata": {
  "kernelspec": {
   "display_name": "Python 3",
   "language": "python",
   "name": "python3"
  },
  "language_info": {
   "codemirror_mode": {
    "name": "ipython",
    "version": 3
   },
   "file_extension": ".py",
   "mimetype": "text/x-python",
   "name": "python",
   "nbconvert_exporter": "python",
   "pygments_lexer": "ipython3",
   "version": "3.8.5"
  }
 },
 "nbformat": 4,
 "nbformat_minor": 4
}
