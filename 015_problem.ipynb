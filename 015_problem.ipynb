{
 "cells": [
  {
   "cell_type": "markdown",
   "metadata": {},
   "source": [
    "# 015\n",
    "\n",
    "整数 1, 2, 3, ..., N が書かれているボールが 1 個ずつ、合計 N 個あります。\n",
    "\n",
    "k = 1, 2, 3, ..., N それぞれについて、以下の質問に答えてください。\n",
    "\n",
    "　・1 個以上のボールを選ぶ方法は 2^N-1 通り存在するが、その中で次の条件を満たす選び方は何通りあるか。\n",
    " \n",
    "　　□どの選んだ 2 つのボールについても、書かれている整数の差が k 以上となる。\n",
    "  \n",
    "　・ただし、答えは非常に多くなることがあるので、10^9+7 で割った余りを出力すること。\n",
    "\n",
    "\n",
    "【制約】\n",
    "\n",
    "・1 ≦ N ≦ 100000\n",
    "\n",
    "・N は整数\n",
    "\n",
    "\n",
    "### 入力形式\n",
    "N"
   ]
  },
  {
   "cell_type": "code",
   "execution_count": null,
   "metadata": {},
   "outputs": [],
   "source": [
    "# 入力例 1\n",
    "1\n",
    "\n",
    "# 出力例 1\n",
    "1"
   ]
  },
  {
   "cell_type": "code",
   "execution_count": null,
   "metadata": {},
   "outputs": [],
   "source": [
    "# 入力例 2\n",
    "2\n",
    "\n",
    "# 出力例 2\n",
    "3\n",
    "2"
   ]
  },
  {
   "cell_type": "code",
   "execution_count": null,
   "metadata": {},
   "outputs": [],
   "source": [
    "# 入力例 3\n",
    "3\n",
    "\n",
    "# 出力例 3\n",
    "7\n",
    "4\n",
    "3"
   ]
  },
  {
   "cell_type": "code",
   "execution_count": null,
   "metadata": {},
   "outputs": [],
   "source": [
    "# 入力例 4\n",
    "4\n",
    "\n",
    "# 出力例 4\n",
    "15\n",
    "7\n",
    "5\n",
    "4\n"
   ]
  },
  {
   "cell_type": "code",
   "execution_count": null,
   "metadata": {},
   "outputs": [],
   "source": [
    "# 入力例 5\n",
    "7\n",
    "\n",
    "# 出力例 5\n",
    "127\n",
    "33\n",
    "18\n",
    "13\n",
    "10\n",
    "8\n",
    "7"
   ]
  },
  {
   "cell_type": "code",
   "execution_count": null,
   "metadata": {},
   "outputs": [],
   "source": [
    "# 入力例 6\n",
    "20\n",
    "\n",
    "# 出力例 6\n",
    "1048575\n",
    "17710\n",
    "2744\n",
    "906\n",
    "430\n",
    "250\n",
    "167\n",
    "118\n",
    "90\n",
    "75\n",
    "65\n",
    "56\n",
    "48\n",
    "41\n",
    "35\n",
    "30\n",
    "26\n",
    "23\n",
    "21\n",
    "20"
   ]
  },
  {
   "cell_type": "code",
   "execution_count": null,
   "metadata": {},
   "outputs": [],
   "source": [
    "# 入力例 7\n",
    "50\n",
    "\n",
    "# 出力例 7\n",
    "898961330\n",
    "951279874\n",
    "262271567\n",
    "14341526\n",
    "1985602\n",
    "466851\n",
    "153365\n",
    "63191\n",
    "30623\n",
    "16687\n",
    "9987\n",
    "6453\n",
    "4354\n",
    "3070\n",
    "2290\n",
    "1790\n",
    "1427\n",
    "1138\n",
    "910\n",
    "735\n",
    "605\n",
    "512\n",
    "448\n",
    "405\n",
    "375\n",
    "350\n",
    "326\n",
    "303\n",
    "281\n",
    "260\n",
    "240\n",
    "221\n",
    "203\n",
    "186\n",
    "170\n",
    "155\n",
    "141\n",
    "128\n",
    "116\n",
    "105\n",
    "95\n",
    "86\n",
    "78\n",
    "71\n",
    "65\n",
    "60\n",
    "56\n",
    "53\n",
    "51\n",
    "50"
   ]
  }
 ],
 "metadata": {
  "kernelspec": {
   "display_name": "Python 3",
   "language": "python",
   "name": "python3"
  },
  "language_info": {
   "codemirror_mode": {
    "name": "ipython",
    "version": 3
   },
   "file_extension": ".py",
   "mimetype": "text/x-python",
   "name": "python",
   "nbconvert_exporter": "python",
   "pygments_lexer": "ipython3",
   "version": "3.7.4"
  }
 },
 "nbformat": 4,
 "nbformat_minor": 4
}
