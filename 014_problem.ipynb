{
 "cells": [
  {
   "cell_type": "markdown",
   "metadata": {},
   "source": [
    "# 014\n",
    "\n",
    "\n",
    "AGC 街道には N 人の小学生が住んでおり、小学生 i の家は位置 A[i] にあります。\n",
    "\n",
    "また、小学校は N 校建てられており、小学校 j は位置 B[j] にあります。\n",
    "\n",
    "AGC 街道に住む小学生は性格が悪く、どの人同士も険悪な関係になっているため、全員が別の学校に通うようにしたいです。\n",
    "\n",
    "また、不便さは次のように定義されます。\n",
    "\n",
    "・小学生 i にとっての家から学校までの距離を E[i] とするとき、不便さは距離の総和、すなわち E[1] + E[2] + ... + E[N] である。\n",
    "\n",
    "・ただし、位置 u から位置 v までの距離は |u-v|\n",
    "\n",
    "そこで、どの生徒も別の学校に通うという条件下における、不便さとして考えられる最小値を求めてください。\n",
    "\n",
    "\n",
    "【制約】\n",
    "\n",
    "・1 ≦ N ≦ 100000\n",
    "\n",
    "・0 ≦ A[i] ≦ 10^9\n",
    "\n",
    "・0 ≦ B[i] ≦ 10^9\n",
    "\n",
    "・A[1], A[2], ..., A[N] は相異なる\n",
    "\n",
    "・B[1], B[2], ..., B[N] は相異なる\n",
    "\n",
    "・入力はすべて整数\n",
    "\n",
    "\n",
    "### 入力形式\n",
    "N\n",
    "\n",
    "A[1] A[2] ... A[N]\n",
    "\n",
    "B[1] B[2] ... B[N]"
   ]
  },
  {
   "cell_type": "code",
   "execution_count": null,
   "metadata": {},
   "outputs": [],
   "source": [
    "# 入力例 1\n",
    "1\n",
    "869\n",
    "120\n",
    "\n",
    "# 出力例 1\n",
    "749"
   ]
  },
  {
   "cell_type": "code",
   "execution_count": null,
   "metadata": {},
   "outputs": [],
   "source": [
    "# 入力例 2\n",
    "6\n",
    "8 6 9 1 2 0\n",
    "1 5 7 2 3 9\n",
    "\n",
    "# 出力例 2\n",
    "5"
   ]
  },
  {
   "cell_type": "code",
   "execution_count": null,
   "metadata": {},
   "outputs": [],
   "source": [
    "# 入力例 3\n",
    "10\n",
    "31 41 59 26 53 58 97 93 23 84\n",
    "17 32 5 8 7 56 88 77 29 35\n",
    "\n",
    "# 出力例 3\n",
    "211"
   ]
  },
  {
   "cell_type": "code",
   "execution_count": null,
   "metadata": {},
   "outputs": [],
   "source": [
    "# 入力例 4\n",
    "20\n",
    "804289382 846930886 681692776 714636914 957747792 424238335 719885386 649760491 596516649 189641420 25202361 350490026 783368690 102520058 44897761 967513925 365180539 540383425 304089172 303455735\n",
    "35005211 521595368 294702567 726956428 336465782 861021530 278722862 233665123 145174065 468703135 101513928 801979801 315634021 635723058 369133068 125898166 59961392 89018454 628175011 656478041\n",
    "\n",
    "# 出力例 4\n",
    "2736647674"
   ]
  },
  {
   "cell_type": "code",
   "execution_count": null,
   "metadata": {},
   "outputs": [],
   "source": []
  }
 ],
 "metadata": {
  "kernelspec": {
   "display_name": "Python 3",
   "language": "python",
   "name": "python3"
  },
  "language_info": {
   "codemirror_mode": {
    "name": "ipython",
    "version": 3
   },
   "file_extension": ".py",
   "mimetype": "text/x-python",
   "name": "python",
   "nbconvert_exporter": "python",
   "pygments_lexer": "ipython3",
   "version": "3.7.4"
  }
 },
 "nbformat": 4,
 "nbformat_minor": 4
}
