{
 "cells": [
  {
   "cell_type": "markdown",
   "metadata": {},
   "source": [
    "# 030\n",
    "\n",
    "\n",
    "2 以上 N 以下の整数のうち、K 種類以上の素因数を持つものの個数を求めてください。\n",
    "\n",
    "\n",
    "【制約】\n",
    "\n",
    "・2 ≦ N ≦ 10^7\n",
    "\n",
    "・1 ≦ K ≦ 8\n",
    "\n",
    "・入力はすべて整数\n",
    "\n",
    "\n",
    "\n",
    "\n",
    "### 入力形式\n",
    "\n",
    "N K"
   ]
  },
  {
   "cell_type": "code",
   "execution_count": null,
   "metadata": {},
   "outputs": [],
   "source": [
    "# 入力例 1\n",
    "15 2\n",
    "\n",
    "# 出力例 1\n",
    "5"
   ]
  },
  {
   "cell_type": "code",
   "execution_count": null,
   "metadata": {},
   "outputs": [],
   "source": [
    "# 入力例 2\n",
    "30 2\n",
    "\n",
    "# 出力例 2\n",
    "13"
   ]
  },
  {
   "cell_type": "code",
   "execution_count": null,
   "metadata": {},
   "outputs": [],
   "source": [
    "# 入力例 3\n",
    "200 4\n",
    "\n",
    "# 出力例 3\n",
    "0"
   ]
  },
  {
   "cell_type": "code",
   "execution_count": null,
   "metadata": {},
   "outputs": [],
   "source": [
    "# 入力例 4\n",
    "869120 1\n",
    "\n",
    "# 出力例 4\n",
    "869119"
   ]
  },
  {
   "cell_type": "code",
   "execution_count": null,
   "metadata": {},
   "outputs": [],
   "source": [
    "# 入力例 5\n",
    "10000000 3\n",
    "\n",
    "# 出力例 5\n",
    "6798027"
   ]
  },
  {
   "cell_type": "code",
   "execution_count": null,
   "metadata": {},
   "outputs": [],
   "source": []
  }
 ],
 "metadata": {
  "kernelspec": {
   "display_name": "Python 3",
   "language": "python",
   "name": "python3"
  },
  "language_info": {
   "codemirror_mode": {
    "name": "ipython",
    "version": 3
   },
   "file_extension": ".py",
   "mimetype": "text/x-python",
   "name": "python",
   "nbconvert_exporter": "python",
   "pygments_lexer": "ipython3",
   "version": "3.7.4"
  }
 },
 "nbformat": 4,
 "nbformat_minor": 4
}
