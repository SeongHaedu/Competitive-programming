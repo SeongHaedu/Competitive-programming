{
 "cells": [
  {
   "cell_type": "markdown",
   "metadata": {},
   "source": [
    "# 024\n",
    "\n",
    "\n",
    "長さ N の正整数列 A = (A[1], A[2], ..., A[N]) および B = (B[1], B[2], ..., B[N]) が与えられます。\n",
    "\n",
    "次の操作をちょうど K 回行うことで A を B に一致させることができるか判定してください。\n",
    "\n",
    "操作：1 ≦ i ≦ N を満たす i をひとつ選び、A[i] を A[i]-1 または A[i]+1 に置き換える\n",
    "\n",
    "\n",
    "【制約】\n",
    "\n",
    "・1 ≦ N ≦ 1000\n",
    "\n",
    "・1 ≦ K ≦ 10^9\n",
    "\n",
    "・1 ≦ A[i], B[i] ≦ 10^6\n",
    "\n",
    "・入力はすべて整数\n",
    "\n",
    "\n",
    "\n",
    "### 入力形式\n",
    "\n",
    "N K\n",
    "\n",
    "A[1] A[2] ... A[N]\n",
    "\n",
    "B[1] B[2] ... B[N]"
   ]
  },
  {
   "cell_type": "code",
   "execution_count": null,
   "metadata": {},
   "outputs": [],
   "source": [
    "# 入力例 1\n",
    "2 5\n",
    "1 3\n",
    "2 1\n",
    "\n",
    "# 出力例 1\n",
    "Yes"
   ]
  },
  {
   "cell_type": "code",
   "execution_count": null,
   "metadata": {},
   "outputs": [],
   "source": [
    "# 入力例 2\n",
    "3 1\n",
    "7 8 9\n",
    "7 8 9\n",
    "\n",
    "# 出力例 2\n",
    "No"
   ]
  },
  {
   "cell_type": "code",
   "execution_count": null,
   "metadata": {},
   "outputs": [],
   "source": [
    "# 入力例 3\n",
    "7 999999999\n",
    "3 1 4 1 5 9 2\n",
    "1 2 3 4 5 6 7\n",
    "\n",
    "# 出力例 3\n",
    "Yes"
   ]
  },
  {
   "cell_type": "code",
   "execution_count": null,
   "metadata": {},
   "outputs": [],
   "source": []
  }
 ],
 "metadata": {
  "kernelspec": {
   "display_name": "Python 3",
   "language": "python",
   "name": "python3"
  },
  "language_info": {
   "codemirror_mode": {
    "name": "ipython",
    "version": 3
   },
   "file_extension": ".py",
   "mimetype": "text/x-python",
   "name": "python",
   "nbconvert_exporter": "python",
   "pygments_lexer": "ipython3",
   "version": "3.7.4"
  }
 },
 "nbformat": 4,
 "nbformat_minor": 4
}
