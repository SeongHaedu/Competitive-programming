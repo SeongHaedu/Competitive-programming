{
 "cells": [
  {
   "cell_type": "markdown",
   "metadata": {},
   "source": [
    "# 019\n",
    "\n",
    "2N 人が一列に並んでおり、左から i 番目の人の身長は A[i] です。\n",
    "\n",
    "YouTuber である ABC 君はこれからライブショーを行います。ショーでは、以下の操作を N 回行います。\n",
    "\n",
    "・隣り合う 2 人を選び、列から抜けさせる。一度列から抜けると、もう列に戻ってくることはない。\n",
    "\n",
    "・このとき、あまりにも 2 人の身長差が大きいと視聴者が引いてしまう。具体的には、2 人の身長を x, y とするとき、低評価が |x-y| 個付く。\n",
    "\n",
    "彼は低評価の個数を最小化したいです。\n",
    "\n",
    "最適にショーを行ったとき、低評価の個数として考えられる最小の値はいくつでしょうか？\n",
    "\n",
    "【制約】\n",
    "\n",
    "・1 ≦ N ≦ 200\n",
    "\n",
    "・1 ≦ A[i] ≦ 1000000\n",
    "\n",
    "・入力はすべて整数\n",
    "\n",
    "\n",
    "### 入力形式\n",
    "\n",
    "N\n",
    "\n",
    "A[1] A[2] ... A[2N]"
   ]
  },
  {
   "cell_type": "code",
   "execution_count": null,
   "metadata": {},
   "outputs": [],
   "source": [
    "# 入力例 1\n",
    "3\n",
    "6 2 3 9 8 6\n",
    "\n",
    "# 出力例 1\n",
    "2"
   ]
  },
  {
   "cell_type": "code",
   "execution_count": null,
   "metadata": {},
   "outputs": [],
   "source": [
    "# 入力例 2\n",
    "3\n",
    "1 3 5 5 3 1\n",
    "\n",
    "# 出力例 2\n",
    "0"
   ]
  },
  {
   "cell_type": "code",
   "execution_count": null,
   "metadata": {},
   "outputs": [],
   "source": [
    "# 入力例 3\n",
    "4\n",
    "1 2 4 8 16 32 64 128\n",
    "\n",
    "# 出力例 3\n",
    "85"
   ]
  },
  {
   "cell_type": "code",
   "execution_count": null,
   "metadata": {},
   "outputs": [],
   "source": [
    "# 入力例 4\n",
    "15\n",
    "73 8 55 26 97 48 37 47 35 55 5 17 62 2 60 23 99 73 34 75 7 46 82 84 29 41 32 31 52 32\n",
    "\n",
    "# 出力例 4\n",
    "207"
   ]
  }
 ],
 "metadata": {
  "kernelspec": {
   "display_name": "Python 3",
   "language": "python",
   "name": "python3"
  },
  "language_info": {
   "codemirror_mode": {
    "name": "ipython",
    "version": 3
   },
   "file_extension": ".py",
   "mimetype": "text/x-python",
   "name": "python",
   "nbconvert_exporter": "python",
   "pygments_lexer": "ipython3",
   "version": "3.7.4"
  }
 },
 "nbformat": 4,
 "nbformat_minor": 4
}
