{
 "cells": [
  {
   "cell_type": "markdown",
   "metadata": {},
   "source": [
    "# 016\n",
    "\n",
    "\n",
    "A 円硬貨、B 円硬貨、C 円硬貨のみを使ってピッタリ N 円を支払いたいです。\n",
    "\n",
    "最小で合計何枚の硬貨を使う必要があるでしょうか。\n",
    "\n",
    "ただし、各種類の硬貨は無数にあるものとします。\n",
    "\n",
    "【制約】\n",
    "\n",
    "・1 ≦ A, B, C, N ≦ 10^9\n",
    "\n",
    "・A, B, C はすべて異なる\n",
    "\n",
    "・合計 9999 枚以内の硬貨でピッタリ N 円を支払うことができる\n",
    "\n",
    "・入力はすべて整数\n",
    "\n",
    "\n",
    "### 入力形式\n",
    "N\n",
    "\n",
    "A B C"
   ]
  },
  {
   "cell_type": "code",
   "execution_count": null,
   "metadata": {},
   "outputs": [],
   "source": [
    "# 入力例 1\n",
    "227\n",
    "21 47 56\n",
    "\n",
    "# 出力例 1\n",
    "5"
   ]
  },
  {
   "cell_type": "code",
   "execution_count": null,
   "metadata": {},
   "outputs": [],
   "source": [
    "# 入力例 2\n",
    "9999\n",
    "1 5 10\n",
    "\n",
    "# 出力例 2\n",
    "1004"
   ]
  },
  {
   "cell_type": "code",
   "execution_count": null,
   "metadata": {},
   "outputs": [],
   "source": [
    "# 入力例 3\n",
    "998244353\n",
    "314159 265358 97932\n",
    "\n",
    "# 出力例 3\n",
    "3333"
   ]
  },
  {
   "cell_type": "code",
   "execution_count": null,
   "metadata": {},
   "outputs": [],
   "source": [
    "# 入力例 4\n",
    "100000000\n",
    "10001 10002 10003\n",
    "\n",
    "# 出力例 4\n",
    "9998"
   ]
  },
  {
   "cell_type": "code",
   "execution_count": null,
   "metadata": {},
   "outputs": [],
   "source": []
  }
 ],
 "metadata": {
  "kernelspec": {
   "display_name": "Python 3",
   "language": "python",
   "name": "python3"
  },
  "language_info": {
   "codemirror_mode": {
    "name": "ipython",
    "version": 3
   },
   "file_extension": ".py",
   "mimetype": "text/x-python",
   "name": "python",
   "nbconvert_exporter": "python",
   "pygments_lexer": "ipython3",
   "version": "3.7.4"
  }
 },
 "nbformat": 4,
 "nbformat_minor": 4
}
