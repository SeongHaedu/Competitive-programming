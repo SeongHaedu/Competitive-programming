{
 "cells": [
  {
   "cell_type": "markdown",
   "metadata": {},
   "source": [
    "# 020\n",
    "\n",
    "\n",
    "log2(a) < b × log2(c) ですか？\n",
    "\n",
    "【制約】\n",
    "\n",
    "・1 ≦ a ≦ 9×10^18\n",
    "\n",
    "・1 ≦ b ≦ 17\n",
    "\n",
    "・1 ≦ c ≦ 13\n",
    "\n",
    "\n",
    "### 入力形式\n",
    "\n",
    "A B C"
   ]
  },
  {
   "cell_type": "code",
   "execution_count": null,
   "metadata": {},
   "outputs": [],
   "source": [
    "# 入力例 1\n",
    "4 3 2\n",
    "\n",
    "# 出力例 1\n",
    "Yes"
   ]
  },
  {
   "cell_type": "code",
   "execution_count": null,
   "metadata": {},
   "outputs": [],
   "source": [
    "# 入力例 2\n",
    "16 3 2\n",
    "\n",
    "# 出力例 2\n",
    "No"
   ]
  },
  {
   "cell_type": "code",
   "execution_count": null,
   "metadata": {},
   "outputs": [],
   "source": [
    "# 入力例 3\n",
    "8 3 2\n",
    "\n",
    "# 出力例 3\n",
    "No"
   ]
  },
  {
   "cell_type": "code",
   "execution_count": null,
   "metadata": {},
   "outputs": [],
   "source": []
  }
 ],
 "metadata": {
  "kernelspec": {
   "display_name": "Python 3",
   "language": "python",
   "name": "python3"
  },
  "language_info": {
   "codemirror_mode": {
    "name": "ipython",
    "version": 3
   },
   "file_extension": ".py",
   "mimetype": "text/x-python",
   "name": "python",
   "nbconvert_exporter": "python",
   "pygments_lexer": "ipython3",
   "version": "3.7.4"
  }
 },
 "nbformat": 4,
 "nbformat_minor": 4
}
