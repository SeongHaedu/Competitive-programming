{
 "cells": [
  {
   "cell_type": "markdown",
   "metadata": {},
   "source": [
    "# 022\n",
    "\n",
    "\n",
    "幅 A、奥行き B、高さ C の直方体の形をしたケーキがあります。\n",
    "\n",
    "あなたはケーキに対して、次の操作を行うことができます。\n",
    "\n",
    "・ある円に平行な方向に切断する\n",
    "\n",
    "・ただし、ケーキは動かしてはならない（複数のケーキに分割されている場合、これらを変形したり、別々に切ることはできない）\n",
    "\n",
    "\n",
    "【制約】\n",
    "\n",
    "・1 ≦ A, B, C ≦ 10^18\n",
    "\n",
    "・入力はすべて整数\n",
    "\n",
    "\n",
    "### 入力形式\n",
    "\n",
    "A B C"
   ]
  },
  {
   "cell_type": "code",
   "execution_count": null,
   "metadata": {},
   "outputs": [],
   "source": [
    "# 入力例 1\n",
    "2 2 3\n",
    "\n",
    "# 出力例 1\n",
    "4"
   ]
  },
  {
   "cell_type": "code",
   "execution_count": null,
   "metadata": {},
   "outputs": [],
   "source": [
    "# 入力例 2\n",
    "2 2 4\n",
    "\n",
    "# 出力例 2\n",
    "1"
   ]
  },
  {
   "cell_type": "code",
   "execution_count": null,
   "metadata": {},
   "outputs": [],
   "source": [
    "# 入力例 3\n",
    "1000000000000000000 999999999999999999 999999999999999998\n",
    "\n",
    "# 出力例 3\n",
    "2999999999999999994"
   ]
  },
  {
   "cell_type": "code",
   "execution_count": null,
   "metadata": {},
   "outputs": [],
   "source": []
  }
 ],
 "metadata": {
  "kernelspec": {
   "display_name": "Python 3",
   "language": "python",
   "name": "python3"
  },
  "language_info": {
   "codemirror_mode": {
    "name": "ipython",
    "version": 3
   },
   "file_extension": ".py",
   "mimetype": "text/x-python",
   "name": "python",
   "nbconvert_exporter": "python",
   "pygments_lexer": "ipython3",
   "version": "3.7.4"
  }
 },
 "nbformat": 4,
 "nbformat_minor": 4
}
