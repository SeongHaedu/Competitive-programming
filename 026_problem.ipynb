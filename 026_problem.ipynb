{
 "cells": [
  {
   "cell_type": "markdown",
   "metadata": {},
   "source": [
    "# 026\n",
    "\n",
    "\n",
    "N 頂点の木があり、頂点には 1, 2, 3, ..., N と番号が振られています。\n",
    "\n",
    "i (1≦i≦N-1) 番目の辺は、頂点 A[i] と B[i] を結んでいます。\n",
    "\n",
    "\n",
    "最初、木のすべての頂点は白く塗られています。\n",
    "\n",
    "N/2 個の頂点を、次の条件を満たすように赤く塗る方法を 1 つ出力してください。\n",
    "\n",
    "・赤く塗られている 2 つの頂点が隣接している場所は存在しない。ただし、頂点 u, v が隣接しているとは、頂点 u と v　を直接結ぶ辺が存在することを指す。\n",
    "\n",
    "\n",
    "【制約】\n",
    "\n",
    "・1 ≦ N ≦ 10^5\n",
    "\n",
    "・N は偶数\n",
    "\n",
    "・1 ≦ A[i] < B[i] ≦ N\n",
    "\n",
    "・入力はすべて整数\n",
    "\n",
    "・与えられるグラフは木である\n",
    "\n",
    "\n",
    "\n",
    "### 入力形式\n",
    "\n",
    "N\n",
    "\n",
    "A[1] B[1]\n",
    "\n",
    "A[2] B[2]\n",
    "\n",
    " :\n",
    " \n",
    "A[N-1] B[N-1]"
   ]
  },
  {
   "cell_type": "code",
   "execution_count": null,
   "metadata": {},
   "outputs": [],
   "source": [
    "# 入力例 1\n",
    "4\n",
    "1 2\n",
    "2 3\n",
    "2 4\n",
    "\n",
    "# 出力例 1\n",
    "3 4"
   ]
  },
  {
   "cell_type": "code",
   "execution_count": null,
   "metadata": {},
   "outputs": [],
   "source": [
    "# 入力例 2\n",
    "6\n",
    "1 3\n",
    "2 4\n",
    "3 5\n",
    "2 5\n",
    "3 6\n",
    "\n",
    "# 出力例 2\n",
    "1 2 6"
   ]
  },
  {
   "cell_type": "code",
   "execution_count": null,
   "metadata": {},
   "outputs": [],
   "source": []
  }
 ],
 "metadata": {
  "kernelspec": {
   "display_name": "Python 3",
   "language": "python",
   "name": "python3"
  },
  "language_info": {
   "codemirror_mode": {
    "name": "ipython",
    "version": 3
   },
   "file_extension": ".py",
   "mimetype": "text/x-python",
   "name": "python",
   "nbconvert_exporter": "python",
   "pygments_lexer": "ipython3",
   "version": "3.7.4"
  }
 },
 "nbformat": 4,
 "nbformat_minor": 4
}
