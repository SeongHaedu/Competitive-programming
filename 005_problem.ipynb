{
 "cells": [
  {
   "cell_type": "markdown",
   "metadata": {},
   "source": [
    "# 005\n",
    "\n",
    "数字 c[1], c[2], ..., c[K] のみを使うことで作れる N 桁の正の整数のうち B の倍数であるものは何個か。\n",
    "\n",
    "1000000007 で割った余りを求めよ。\n",
    "\n",
    "【制約】\n",
    "\n",
    "・1 ≦ N ≦ 10^18\n",
    "\n",
    "・2 ≦ B ≦ 1000\n",
    "\n",
    "・1 ≦ K ≦ 9\n",
    "\n",
    "・1 ≦ c[1] < c[2] < c[3] < ... < c[K] ≦ 9\n",
    "\n",
    "・入力はすべて整数\n",
    "\n",
    "\n",
    "\n",
    "### 入力形式\n",
    "\n",
    "N B K\n",
    "\n",
    "c[1] c[2] c[3] ... c[K]"
   ]
  },
  {
   "cell_type": "markdown",
   "metadata": {},
   "source": [
    "### 入力例 1\n",
    "3 7 3\n",
    "\n",
    "1 4 9\n",
    "\n",
    "### 出力例 1\n",
    "3"
   ]
  },
  {
   "cell_type": "markdown",
   "metadata": {},
   "source": [
    "### 入力例 2\n",
    "5 2 3\n",
    "\n",
    "1 4 9\n",
    "\n",
    "### 出力例 2\n",
    "81"
   ]
  },
  {
   "cell_type": "markdown",
   "metadata": {},
   "source": [
    "### 入力例 3\n",
    "10000 27 7\n",
    "\n",
    "1 3 4 6 7 8 9\n",
    "\n",
    "### 出力例 3\n",
    "989112238"
   ]
  },
  {
   "cell_type": "markdown",
   "metadata": {},
   "source": [
    "### 入力例 4\n",
    "1000000000000000000 29 6\n",
    "\n",
    "1 2 4 5 7 9\n",
    "\n",
    "### 出力例 4\n",
    "853993813\n",
    "\n",
    "※この入力例は小課題 2, 3 のみの制約を満たします"
   ]
  },
  {
   "cell_type": "code",
   "execution_count": null,
   "metadata": {},
   "outputs": [],
   "source": []
  }
 ],
 "metadata": {
  "kernelspec": {
   "display_name": "Python 3",
   "language": "python",
   "name": "python3"
  },
  "language_info": {
   "codemirror_mode": {
    "name": "ipython",
    "version": 3
   },
   "file_extension": ".py",
   "mimetype": "text/x-python",
   "name": "python",
   "nbconvert_exporter": "python",
   "pygments_lexer": "ipython3",
   "version": "3.7.4"
  }
 },
 "nbformat": 4,
 "nbformat_minor": 4
}
