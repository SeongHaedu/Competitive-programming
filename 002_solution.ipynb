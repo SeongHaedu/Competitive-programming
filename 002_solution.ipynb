{
 "cells": [
  {
   "cell_type": "markdown",
   "metadata": {},
   "source": [
    "# 002\n",
    "\n",
    "長さ N の正しいカッコ列をすべて、辞書順に出力してください。\n",
    "\n",
    "ただし、正しいカッコ列とは以下のことを指すものとします。\n",
    "\n",
    "・\"()\" は正しいカッコ列である\n",
    "\n",
    "・S が正しいカッコ列であるとき、文字列 \"(\" + S + \")\" は正しいカッコ列である\n",
    "\n",
    "・S, T が正しいカッコ列であるとき、文字列 S+T は正しいカッコ列である\n",
    "\n",
    "また、')' より '(' の方が辞書順で早いものとする。\n",
    "\n",
    "\n",
    "【制約】\n",
    "\n",
    "・1 ≦ N ≦ 20\n",
    "\n",
    "・N は整数\n",
    "\n",
    "\n",
    "### 入力形式\n",
    "\n",
    "N\n"
   ]
  },
  {
   "cell_type": "code",
   "execution_count": 5,
   "metadata": {},
   "outputs": [
    {
     "data": {
      "text/plain": [
       "'\\n()\\n'"
      ]
     },
     "execution_count": 5,
     "metadata": {},
     "output_type": "execute_result"
    }
   ],
   "source": [
    "# 入力例 1\n",
    "N = 2\n",
    "\n",
    "# 出力例 1\n",
    "\"\"\"\n",
    "()\n",
    "\"\"\""
   ]
  },
  {
   "cell_type": "code",
   "execution_count": 9,
   "metadata": {
    "scrolled": true
   },
   "outputs": [
    {
     "name": "stdout",
     "output_type": "stream",
     "text": [
      "(())\n",
      "()()\n"
     ]
    }
   ],
   "source": [
    "def hantei(S):\n",
    "    # stack\n",
    "    dep = 0\n",
    "    for i in range(len(S)):\n",
    "        if S[i] == '(':\n",
    "            dep += 1\n",
    "        if S[i] == ')':\n",
    "            dep -= 1\n",
    "        if dep < 0:\n",
    "            return False\n",
    "    if dep == 0:\n",
    "        return True\n",
    "    return False\n",
    "\n",
    "def main(N):\n",
    "    dictionary = []\n",
    "    answer = []\n",
    "    if N%2 == 0:\n",
    "        lead = \"(\"\n",
    "        trail = \")\"\n",
    "        dictionary.append(lead)\n",
    "        dictionary.append(trail)\n",
    "        # all combination\n",
    "        for l in range(int(N/2)):\n",
    "            dictionary =  [i + j for i in dictionary for j in dictionary]\n",
    "        # condition\n",
    "        for letter in dictionary:\n",
    "            I = hantei(letter)\n",
    "            if I == True:\n",
    "                print(\"{}\".format(letter))  \n",
    "    else:\n",
    "        print(\"None\")\n",
    "        \n",
    "main(N)"
   ]
  },
  {
   "cell_type": "code",
   "execution_count": 7,
   "metadata": {},
   "outputs": [
    {
     "ename": "SyntaxError",
     "evalue": "invalid character in identifier (<ipython-input-7-8ffc71e4c4a9>, line 6)",
     "output_type": "error",
     "traceback": [
      "\u001b[0;36m  File \u001b[0;32m\"<ipython-input-7-8ffc71e4c4a9>\"\u001b[0;36m, line \u001b[0;32m6\u001b[0m\n\u001b[0;31m    （※何も出力しない場合もあります。）\u001b[0m\n\u001b[0m                     ^\u001b[0m\n\u001b[0;31mSyntaxError\u001b[0m\u001b[0;31m:\u001b[0m invalid character in identifier\n"
     ]
    }
   ],
   "source": [
    "# 入力例 2\n",
    "3\n",
    "\n",
    "# 出力例 2\n",
    "\n",
    "（※何も出力しない場合もあります。）\n"
   ]
  },
  {
   "cell_type": "code",
   "execution_count": 8,
   "metadata": {},
   "outputs": [
    {
     "data": {
      "text/plain": [
       "'\\n(())\\n()()\\n'"
      ]
     },
     "execution_count": 8,
     "metadata": {},
     "output_type": "execute_result"
    }
   ],
   "source": [
    "# 入力例 3\n",
    "N = 4\n",
    "\n",
    "# 出力例 3\n",
    "\"\"\"\n",
    "(())\n",
    "()()\n",
    "\"\"\""
   ]
  },
  {
   "cell_type": "code",
   "execution_count": 3,
   "metadata": {},
   "outputs": [
    {
     "data": {
      "text/plain": [
       "'\\n((((()))))\\n(((()())))\\n(((())()))\\n(((()))())\\n(((())))()\\n((()(())))\\n((()()()))\\n((()())())\\n((()()))()\\n((())(()))\\n((())()())\\n((())())()\\n((()))(())\\n((()))()()\\n(()((())))\\n(()(()()))\\n(()(())())\\n(()(()))()\\n(()()(()))\\n(()()()())\\n(()()())()\\n(()())(())\\n(()())()()\\n(())((()))\\n(())(()())\\n(())(())()\\n(())()(())\\n(())()()()\\n()(((())))\\n()((()()))\\n()((())())\\n()((()))()\\n()(()(()))\\n()(()()())\\n()(()())()\\n()(())(())\\n()(())()()\\n()()((()))\\n()()(()())\\n()()(())()\\n()()()(())\\n()()()()()\\n'"
      ]
     },
     "execution_count": 3,
     "metadata": {},
     "output_type": "execute_result"
    }
   ],
   "source": [
    "# 入力例 4\n",
    "N = 10\n",
    "\n",
    "# 出力例 4\n",
    "\"\"\"\n",
    "((((()))))\n",
    "(((()())))\n",
    "(((())()))\n",
    "(((()))())\n",
    "(((())))()\n",
    "((()(())))\n",
    "((()()()))\n",
    "((()())())\n",
    "((()()))()\n",
    "((())(()))\n",
    "((())()())\n",
    "((())())()\n",
    "((()))(())\n",
    "((()))()()\n",
    "(()((())))\n",
    "(()(()()))\n",
    "(()(())())\n",
    "(()(()))()\n",
    "(()()(()))\n",
    "(()()()())\n",
    "(()()())()\n",
    "(()())(())\n",
    "(()())()()\n",
    "(())((()))\n",
    "(())(()())\n",
    "(())(())()\n",
    "(())()(())\n",
    "(())()()()\n",
    "()(((())))\n",
    "()((()()))\n",
    "()((())())\n",
    "()((()))()\n",
    "()(()(()))\n",
    "()(()()())\n",
    "()(()())()\n",
    "()(())(())\n",
    "()(())()()\n",
    "()()((()))\n",
    "()()(()())\n",
    "()()(())()\n",
    "()()()(())\n",
    "()()()()()\n",
    "\"\"\""
   ]
  },
  {
   "cell_type": "code",
   "execution_count": null,
   "metadata": {},
   "outputs": [],
   "source": []
  }
 ],
 "metadata": {
  "kernelspec": {
   "display_name": "Python 3",
   "language": "python",
   "name": "python3"
  },
  "language_info": {
   "codemirror_mode": {
    "name": "ipython",
    "version": 3
   },
   "file_extension": ".py",
   "mimetype": "text/x-python",
   "name": "python",
   "nbconvert_exporter": "python",
   "pygments_lexer": "ipython3",
   "version": "3.7.4"
  }
 },
 "nbformat": 4,
 "nbformat_minor": 4
}
