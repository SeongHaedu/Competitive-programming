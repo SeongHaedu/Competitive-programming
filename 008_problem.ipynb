{
 "cells": [
  {
   "cell_type": "markdown",
   "metadata": {},
   "source": [
    "# 008\n",
    "\n",
    "\n",
    "文字列 S が与えられます。\n",
    "\n",
    "ここから 7 文字を取り出したときに、前から順に読んで \"atcoder\" となる取り出し方の個数を 10^9 + 7 で割った余りを求めてください。\n",
    "\n",
    "【制約】\n",
    "\n",
    "・1 ≦ |S| ≦ 10^5\n",
    "\n",
    "・S は英小文字からなる\n",
    "\n",
    "\n",
    "### 入力形式\n",
    "S"
   ]
  },
  {
   "cell_type": "code",
   "execution_count": null,
   "metadata": {},
   "outputs": [],
   "source": [
    "# 入力例 1\n",
    "attcoderer\n",
    "\n",
    "# 出力例 1\n",
    "6"
   ]
  },
  {
   "cell_type": "code",
   "execution_count": null,
   "metadata": {},
   "outputs": [],
   "source": [
    "# 入力例 2\n",
    "aattccooddeerr\n",
    "\n",
    "# 出力例 2\n",
    "128"
   ]
  },
  {
   "cell_type": "code",
   "execution_count": null,
   "metadata": {},
   "outputs": [],
   "source": [
    "# 入力例 3\n",
    "atcoderatcoderatcoderatcoderatcoderatcoderatcoderatcoderatcoder\n",
    "\n",
    "# 出力例 3\n",
    "6435"
   ]
  },
  {
   "cell_type": "code",
   "execution_count": null,
   "metadata": {},
   "outputs": [],
   "source": [
    "# 入力例 4\n",
    "brckpixvbzptpfobpgwgfnovgjrruladpoapohzyqkmmaapnumhhuuaudztrgnjpwvnggnevmjisvbgoqsvwgozkkmcrydrojxrofvckrgksjnyhqfvbhawzkpddgbyiscopxnxmduanahfhzcnixkpexrcazqetinblpscyqwxkcfcbmpjekklaueoxolxiszagoruxrjewiajmczelvirqobkuiaxmaalkbckwbnbbtyixfjbgltljfdsblrlakktjbwlufsuobzhixzwbmeoethbmpmictanarheouadgjcfhlbrckyzwoqowmvmesqmfdyeomuglutqtbxztvoxtvmqyqqjgqjdkysbvtqdsurgmvctodjqspzgeyuogpadapiibqqjokrmqgiekggmfxxiwyytwyjqgkyefridarszlpazqhezlihscempkddhfhzkqataieopttyuddweukffjgdicqyobvdjnlftibaoqdvgg\n",
    "\n",
    "# 出力例 4\n",
    "99337"
   ]
  },
  {
   "cell_type": "code",
   "execution_count": null,
   "metadata": {},
   "outputs": [],
   "source": []
  }
 ],
 "metadata": {
  "kernelspec": {
   "display_name": "Python 3",
   "language": "python",
   "name": "python3"
  },
  "language_info": {
   "codemirror_mode": {
    "name": "ipython",
    "version": 3
   },
   "file_extension": ".py",
   "mimetype": "text/x-python",
   "name": "python",
   "nbconvert_exporter": "python",
   "pygments_lexer": "ipython3",
   "version": "3.7.4"
  }
 },
 "nbformat": 4,
 "nbformat_minor": 4
}
