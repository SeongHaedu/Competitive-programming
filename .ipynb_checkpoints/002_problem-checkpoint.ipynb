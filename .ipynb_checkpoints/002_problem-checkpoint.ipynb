{
 "cells": [
  {
   "cell_type": "markdown",
   "metadata": {},
   "source": [
    "# 002\n",
    "\n",
    "長さ N の正しいカッコ列をすべて、辞書順に出力してください。\n",
    "\n",
    "ただし、正しいカッコ列とは以下のことを指すものとします。\n",
    "\n",
    "・\"()\" は正しいカッコ列である\n",
    "\n",
    "・S が正しいカッコ列であるとき、文字列 \"(\" + S + \")\" は正しいカッコ列である\n",
    "\n",
    "・S, T が正しいカッコ列であるとき、文字列 S+T は正しいカッコ列である\n",
    "\n",
    "また、')' より '(' の方が辞書順で早いものとする。\n",
    "\n",
    "\n",
    "【制約】\n",
    "\n",
    "・1 ≦ N ≦ 20\n",
    "\n",
    "・N は整数\n",
    "\n",
    "\n",
    "### 入力形式\n",
    "\n",
    "N\n"
   ]
  },
  {
   "cell_type": "code",
   "execution_count": null,
   "metadata": {},
   "outputs": [],
   "source": [
    "# 入力例 1\n",
    "2\n",
    "\n",
    "# 出力例 1\n",
    "()"
   ]
  },
  {
   "cell_type": "code",
   "execution_count": null,
   "metadata": {},
   "outputs": [],
   "source": [
    "# 入力例 2\n",
    "3\n",
    "\n",
    "# 出力例 2\n",
    "\n",
    "（※何も出力しない場合もあります。）\n"
   ]
  },
  {
   "cell_type": "code",
   "execution_count": null,
   "metadata": {},
   "outputs": [],
   "source": [
    "# 入力例 3\n",
    "4\n",
    "\n",
    "# 出力例 3\n",
    "(())\n",
    "()()"
   ]
  },
  {
   "cell_type": "code",
   "execution_count": null,
   "metadata": {},
   "outputs": [],
   "source": [
    "# 入力例 4\n",
    "10\n",
    "\n",
    "# 出力例 4\n",
    "((((()))))\n",
    "(((()())))\n",
    "(((())()))\n",
    "(((()))())\n",
    "(((())))()\n",
    "((()(())))\n",
    "((()()()))\n",
    "((()())())\n",
    "((()()))()\n",
    "((())(()))\n",
    "((())()())\n",
    "((())())()\n",
    "((()))(())\n",
    "((()))()()\n",
    "(()((())))\n",
    "(()(()()))\n",
    "(()(())())\n",
    "(()(()))()\n",
    "(()()(()))\n",
    "(()()()())\n",
    "(()()())()\n",
    "(()())(())\n",
    "(()())()()\n",
    "(())((()))\n",
    "(())(()())\n",
    "(())(())()\n",
    "(())()(())\n",
    "(())()()()\n",
    "()(((())))\n",
    "()((()()))\n",
    "()((())())\n",
    "()((()))()\n",
    "()(()(()))\n",
    "()(()()())\n",
    "()(()())()\n",
    "()(())(())\n",
    "()(())()()\n",
    "()()((()))\n",
    "()()(()())\n",
    "()()(())()\n",
    "()()()(())\n",
    "()()()()()"
   ]
  },
  {
   "cell_type": "code",
   "execution_count": null,
   "metadata": {},
   "outputs": [],
   "source": []
  }
 ],
 "metadata": {
  "kernelspec": {
   "display_name": "Python 3",
   "language": "python",
   "name": "python3"
  },
  "language_info": {
   "codemirror_mode": {
    "name": "ipython",
    "version": 3
   },
   "file_extension": ".py",
   "mimetype": "text/x-python",
   "name": "python",
   "nbconvert_exporter": "python",
   "pygments_lexer": "ipython3",
   "version": "3.7.4"
  }
 },
 "nbformat": 4,
 "nbformat_minor": 4
}
