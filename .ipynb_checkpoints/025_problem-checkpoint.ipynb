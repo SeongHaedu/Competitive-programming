{
 "cells": [
  {
   "cell_type": "markdown",
   "metadata": {},
   "source": [
    "# 025\n",
    "\n",
    "関数 f(x) を次のように定義します。\n",
    "\n",
    "・f(x) = [x の各位の数字の積]\n",
    "\n",
    "例えば、f(777)=343、f(8691)=432、f(869120)=0 です。\n",
    "\n",
    "整数 N と B が与えられるので、1 以上 N 以下の整数 m の中で m - f(m) = B となるものの個数を求めてください。\n",
    "\n",
    "【制約】\n",
    "\n",
    "・1 ≦ N < 10^11\n",
    "\n",
    "・1 ≦ B < 10^11\n",
    "\n",
    "・入力はすべて整数\n",
    "\n",
    "\n",
    "### 入力形式\n",
    "\n",
    "N B"
   ]
  },
  {
   "cell_type": "code",
   "execution_count": null,
   "metadata": {},
   "outputs": [],
   "source": [
    "# 入力例 1\n",
    "999 434\n",
    "\n",
    "# 出力例 1\n",
    "2"
   ]
  },
  {
   "cell_type": "code",
   "execution_count": null,
   "metadata": {},
   "outputs": [],
   "source": [
    "# 入力例 2\n",
    "255 15\n",
    "\n",
    "# 出力例 2\n",
    "2"
   ]
  },
  {
   "cell_type": "code",
   "execution_count": null,
   "metadata": {},
   "outputs": [],
   "source": [
    "# 入力例 3\n",
    "9999999999 1\n",
    "\n",
    "# 出力例 3\n",
    "0"
   ]
  }
 ],
 "metadata": {
  "kernelspec": {
   "display_name": "Python 3",
   "language": "python",
   "name": "python3"
  },
  "language_info": {
   "codemirror_mode": {
    "name": "ipython",
    "version": 3
   },
   "file_extension": ".py",
   "mimetype": "text/x-python",
   "name": "python",
   "nbconvert_exporter": "python",
   "pygments_lexer": "ipython3",
   "version": "3.7.4"
  }
 },
 "nbformat": 4,
 "nbformat_minor": 4
}
