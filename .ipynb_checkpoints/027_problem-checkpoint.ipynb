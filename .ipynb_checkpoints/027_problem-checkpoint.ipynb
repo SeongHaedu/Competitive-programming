{
 "cells": [
  {
   "cell_type": "markdown",
   "metadata": {},
   "source": [
    "# 027\n",
    "\n",
    "低橋君は、競技プログラミングのサイト「LowCoder」を作り、サービスを開始しました。\n",
    "\n",
    "今日の時点では、「LowCoder」にユーザーはいません。\n",
    "\n",
    "今日から数えて i (1≦i≦N) 日後には、ユーザー名 S[i] を希望するユーザーが登録申請を行い、次のことが起こります。\n",
    "\n",
    "・その時点でユーザー名が S[i] であるユーザーが存在する場合、その登録申請は無視されます。\n",
    "\n",
    "・一方、存在しない場合は登録申請が受理され、LowCoder にそのユーザーが登録されます。\n",
    "\n",
    "登録申請が受理されたのが、何日目に登録申請を行ったユーザーなのか、小さい順に出力せよ。\n",
    "\n",
    "【制約】\n",
    "\n",
    "・1 ≦ N ≦ 10^5\n",
    "\n",
    "・1 ≦ |S[i]| ≦ 15\n",
    "S[i] は英小文字または数字から成る\n",
    "\n",
    "・N は整数\n",
    "\n",
    "\n",
    "### 入力形式\n",
    "N\n",
    "\n",
    "S[1]\n",
    "\n",
    "S[2]\n",
    "\n",
    " :\n",
    " \n",
    "S[N]"
   ]
  },
  {
   "cell_type": "code",
   "execution_count": null,
   "metadata": {},
   "outputs": [],
   "source": [
    "# 入力例 1\n",
    "5\n",
    "e869120\n",
    "atcoder\n",
    "e869120\n",
    "square1001\n",
    "square1001\n",
    "\n",
    "# 出力例 1\n",
    "1\n",
    "2\n",
    "4"
   ]
  },
  {
   "cell_type": "code",
   "execution_count": null,
   "metadata": {},
   "outputs": [],
   "source": [
    "# 入力例 2\n",
    "4\n",
    "taro\n",
    "hanako\n",
    "yuka\n",
    "takashi\n",
    "\n",
    "# 出力例 2\n",
    "1\n",
    "2\n",
    "3\n",
    "4"
   ]
  },
  {
   "cell_type": "code",
   "execution_count": null,
   "metadata": {},
   "outputs": [],
   "source": [
    "# 入力例 3\n",
    "10\n",
    "square869120\n",
    "square869120\n",
    "square869120\n",
    "square869120\n",
    "square869120\n",
    "square869120\n",
    "square869120\n",
    "square869120\n",
    "square869120\n",
    "square869120\n",
    "\n",
    "# 出力例 3\n",
    "1"
   ]
  }
 ],
 "metadata": {
  "kernelspec": {
   "display_name": "Python 3",
   "language": "python",
   "name": "python3"
  },
  "language_info": {
   "codemirror_mode": {
    "name": "ipython",
    "version": 3
   },
   "file_extension": ".py",
   "mimetype": "text/x-python",
   "name": "python",
   "nbconvert_exporter": "python",
   "pygments_lexer": "ipython3",
   "version": "3.7.4"
  }
 },
 "nbformat": 4,
 "nbformat_minor": 4
}
