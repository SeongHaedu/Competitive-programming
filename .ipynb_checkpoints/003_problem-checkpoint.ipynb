{
 "cells": [
  {
   "cell_type": "markdown",
   "metadata": {},
   "source": [
    "# 003\n",
    "\n",
    "N 個の都市があり、それぞれ 1, 2, 3, ..., N と番号付けられています。\n",
    "\n",
    "また、N-1 本の道路があり、i 本目の道路は都市 A[i] と都市 B[i] を双方向に結んでいます。\n",
    "\n",
    "どの都市の間も、いくつかの道路を通って移動可能なものとなっています。\n",
    "\n",
    "さて、あなたは整数 u, v (1 ≦ u < v ≦ N) を自由に選び、都市 u と v を双方向に結ぶ道路を 1 本だけ新設することができます。\n",
    "\n",
    "そこで、以下で定められる値をスコアとします。\n",
    "\n",
    "・同じ道を 2 度通らずにある都市から同じ都市まで戻ってくる経路における、通った道の本数 (この値はただ一つに定まる)\n",
    "\n",
    "スコアとして考えられる最大の値を出力してください。\n",
    "\n",
    "【制約】\n",
    "\n",
    "・1 ≦ N ≦ 100000\n",
    "\n",
    "・1 ≦ A[i] < B[i] ≦ N\n",
    "\n",
    "・どの都市の間も、いくつかの道路を通って移動可能\n",
    "\n",
    "・入力はすべて整数\n",
    "\n",
    "\n",
    "### 入力形式\n",
    "\n",
    "N\n",
    "\n",
    "A[1] B[1]\n",
    "\n",
    "A[2] B[2]\n",
    "\n",
    "A[3] B[3]\n",
    "\n",
    ":\n",
    "\n",
    "A[N-1] B[N-1]\n"
   ]
  },
  {
   "cell_type": "code",
   "execution_count": null,
   "metadata": {},
   "outputs": [],
   "source": [
    "# 入力例 1\n",
    "3\n",
    "1 2\n",
    "2 3\n",
    "\n",
    "# 出力例 1\n",
    "3"
   ]
  },
  {
   "cell_type": "code",
   "execution_count": null,
   "metadata": {},
   "outputs": [],
   "source": [
    "# 入力例 2\n",
    "5\n",
    "1 2\n",
    "2 3\n",
    "3 4\n",
    "3 5\n",
    "\n",
    "# 出力例 2\n",
    "4"
   ]
  },
  {
   "cell_type": "code",
   "execution_count": null,
   "metadata": {},
   "outputs": [],
   "source": [
    "# 入力例 3\n",
    "10\n",
    "1 2\n",
    "1 3\n",
    "2 4\n",
    "4 5\n",
    "4 6\n",
    "3 7\n",
    "7 8\n",
    "8 9\n",
    "8 10\n",
    "\n",
    "# 出力例 3\n",
    "8"
   ]
  },
  {
   "cell_type": "code",
   "execution_count": null,
   "metadata": {},
   "outputs": [],
   "source": [
    "# 入力例 4\n",
    "31\n",
    "1 2\n",
    "1 3\n",
    "2 4\n",
    "2 5\n",
    "3 6\n",
    "3 7\n",
    "4 8\n",
    "4 9\n",
    "5 10\n",
    "5 11\n",
    "6 12\n",
    "6 13\n",
    "7 14\n",
    "7 15\n",
    "8 16\n",
    "8 17\n",
    "9 18\n",
    "9 19\n",
    "10 20\n",
    "10 21\n",
    "11 22\n",
    "11 23\n",
    "12 24\n",
    "12 25\n",
    "13 26\n",
    "13 27\n",
    "14 28\n",
    "14 29\n",
    "15 30\n",
    "15 31\n",
    "\n",
    "# 出力例 4\n",
    "9"
   ]
  }
 ],
 "metadata": {
  "kernelspec": {
   "display_name": "Python 3",
   "language": "python",
   "name": "python3"
  },
  "language_info": {
   "codemirror_mode": {
    "name": "ipython",
    "version": 3
   },
   "file_extension": ".py",
   "mimetype": "text/x-python",
   "name": "python",
   "nbconvert_exporter": "python",
   "pygments_lexer": "ipython3",
   "version": "3.7.4"
  }
 },
 "nbformat": 4,
 "nbformat_minor": 4
}
