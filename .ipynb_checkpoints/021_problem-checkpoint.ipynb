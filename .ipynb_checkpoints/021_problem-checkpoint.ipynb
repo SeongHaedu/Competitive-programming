{
 "cells": [
  {
   "cell_type": "markdown",
   "metadata": {},
   "source": [
    "# 021\n",
    "\n",
    "N 頂点 M 辺の有向グラフがあります。\n",
    "\n",
    "辺には 1, 2, ..., M と番号が付けられており、辺 i は頂点 A[i] から頂点 B[i] に向かいます。\n",
    "\n",
    "次の条件を満たす 2 頂点 (x, y) [1 ≦ x < y ≦ M] の組はいくつありますか。\n",
    "\n",
    "・頂点 x から頂点 y に向かうパス、頂点 y から頂点 x に向かうパス両方が存在する。\n",
    "\n",
    "【制約】\n",
    "\n",
    "・2 ≦ N ≦ 100000\n",
    "\n",
    "・1 ≦ M ≦ 200000\n",
    "\n",
    "・1 ≦ A[i], B[i] ≦ M\n",
    "\n",
    "・A[i] ≠ B[i]\n",
    "\n",
    "・入力はすべて整数\n",
    "\n",
    "\n",
    "### 入力形式\n",
    "\n",
    "N M\n",
    "\n",
    "A[1] B[1]\n",
    "\n",
    "A[2] B[2]\n",
    "\n",
    " :\n",
    " \n",
    "A[M] B[M]"
   ]
  },
  {
   "cell_type": "code",
   "execution_count": null,
   "metadata": {},
   "outputs": [],
   "source": [
    "# 入力例 1\n",
    "4 7\n",
    "1 2\n",
    "2 1\n",
    "2 3\n",
    "4 3\n",
    "4 1\n",
    "1 4\n",
    "2 3\n",
    "\n",
    "# 出力例 1\n",
    "3\n",
    "※多重辺は存在する場合もあります"
   ]
  },
  {
   "cell_type": "code",
   "execution_count": null,
   "metadata": {},
   "outputs": [],
   "source": [
    "# 入力例 2\n",
    "100 1\n",
    "1 2\n",
    "\n",
    "# 出力例 2\n",
    "0\n"
   ]
  }
 ],
 "metadata": {
  "kernelspec": {
   "display_name": "Python 3",
   "language": "python",
   "name": "python3"
  },
  "language_info": {
   "codemirror_mode": {
    "name": "ipython",
    "version": 3
   },
   "file_extension": ".py",
   "mimetype": "text/x-python",
   "name": "python",
   "nbconvert_exporter": "python",
   "pygments_lexer": "ipython3",
   "version": "3.7.4"
  }
 },
 "nbformat": 4,
 "nbformat_minor": 4
}
